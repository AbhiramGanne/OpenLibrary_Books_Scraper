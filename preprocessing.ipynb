{
 "cells": [
  {
   "cell_type": "markdown",
   "id": "da5b4091",
   "metadata": {},
   "source": [
    "# 📘 Preprocessing Notebook: OpenLibrary Book Data"
   ]
  },
  {
   "cell_type": "markdown",
   "id": "72f720d2",
   "metadata": {},
   "source": [
    "This notebook cleans the scraped data from OpenLibrary.org."
   ]
  },
  {
   "cell_type": "code",
   "execution_count": null,
   "id": "58cad282",
   "metadata": {},
   "outputs": [],
   "source": [
    "\n",
    "# Step 1: Import Required Libraries\n",
    "import pandas as pd\n"
   ]
  },
  {
   "cell_type": "code",
   "execution_count": null,
   "id": "2bdde981",
   "metadata": {},
   "outputs": [],
   "source": [
    "\n",
    "# Step 2: Load the Raw CSV File (uploaded to Colab)\n",
    "from google.colab import files\n",
    "uploaded = files.upload()\n",
    "df = pd.read_csv('BooksToScrape.csv')\n",
    "df.head()\n"
   ]
  },
  {
   "cell_type": "code",
   "execution_count": null,
   "id": "5a79331c",
   "metadata": {},
   "outputs": [],
   "source": [
    "\n",
    "# Step 3: Clean the Data (strip whitespace, drop duplicates, handle NaNs)\n",
    "df = df.applymap(lambda x: x.strip() if isinstance(x, str) else x)\n",
    "df = df.drop_duplicates()\n",
    "df = df.dropna(subset=['bookDetails', 'bookauthor', 'bookRating', 'bookSummary'])\n",
    "df.head()\n"
   ]
  },
  {
   "cell_type": "code",
   "execution_count": null,
   "id": "a0de8bf8",
   "metadata": {},
   "outputs": [],
   "source": [
    "\n",
    "# Step 4: Rename Columns\n",
    "df.columns = ['Book_Title', 'Author', 'Rating', 'Summary']\n",
    "df.head()\n"
   ]
  },
  {
   "cell_type": "code",
   "execution_count": null,
   "id": "87fb7e4b",
   "metadata": {},
   "outputs": [],
   "source": [
    "\n",
    "# Step 5: Save Cleaned Data\n",
    "df.to_csv('Cleaned_BookstoScrape.csv', index=False)\n",
    "files.download('Cleaned_BookstoScrape.csv')\n",
    "print(\"✅ Cleaned CSV saved successfully!\")\n"
   ]
  }
 ],
 "metadata": {},
 "nbformat": 4,
 "nbformat_minor": 5
}
